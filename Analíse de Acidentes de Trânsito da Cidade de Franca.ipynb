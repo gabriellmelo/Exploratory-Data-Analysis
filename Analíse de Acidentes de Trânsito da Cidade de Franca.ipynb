{
 "cells": [
  {
   "cell_type": "markdown",
   "id": "aff7cef0",
   "metadata": {},
   "source": [
    "# [EDA] Análise de Óbitos em Acidentes de Trânsito na Cidade de Franca\n",
    "\n",
    "Para ter acesso a base, acesse o link abaixo e pressione Ir Para Recurso:\n",
    "\n",
    "http://catalogo.governoaberto.sp.gov.br/dataset/infosiga-sp-sistema-de-informacoes-gerenciais-de-acidentes-de-transito-do-estado-de-sao-paulo/resource/0f940ab2-1d24-45ca-bb58-e27acb7ea63a\n",
    "\n",
    "Ao final da página, no bloco \"Base de Óbitos\", basta selecionar o link com o botão direito  e selecionar \"Baixar arquivo vinculado\""
   ]
  },
  {
   "cell_type": "code",
   "execution_count": 44,
   "id": "73f8eb24",
   "metadata": {},
   "outputs": [],
   "source": [
    "# Importações necessárias que serão usadas durante a análise\n",
    "import pandas as pd\n",
    "import numpy as np\n",
    "import matplotlib.pyplot as plt\n",
    "import seaborn as sns\n",
    "%matplotlib inline"
   ]
  },
  {
   "cell_type": "code",
   "execution_count": 3,
   "id": "e6f8be4c",
   "metadata": {},
   "outputs": [],
   "source": [
    "# importar o arquivo obitos_publico.csv para um DataFrame\n",
    "df = pd.read_csv('/Users/gabrielmelo/TCC/obitos_publico.csv', sep=';', encoding='latin1')"
   ]
  },
  {
   "cell_type": "markdown",
   "id": "eb13d0ae",
   "metadata": {},
   "source": [
    "**Dicionário das variáveis**\n",
    "\n",
* Tipo de via - Tipo de Via da ocorrência
* mes - Mês da ocorrência
* Dia da Semana - Dia da semana em que houve a ocorrência
* Hora do Acidente - Horário da ocorrência
* Dia do Acidente - Dia da ocorrência
* Mês do Acidente - Mês da ocorrência
* Ano do Acidente - Ano da ocorrência
* Turno - Turno do dia em que houve a ocorrência
* Município - Cidade da ocorrência
* Tipo do veículo da vítima - Veículo da vítima
* Tipo de vítima - Identificação se a vítima era um condutor, pedestre ou passageiro
* Tipo de acidente - O que ocasionou a fatalidade
* Sexo - Sexo da vítima
* Idade da vítima - Idade da vítima
    "\n",
    "Antes de iniciar qualquer análise, vamos dar uma olhada no nosso dataset, analisando as 5 primeiras entradas."
   ]
  },
  {
   "cell_type": "code",
   "execution_count": 4,
   "id": "cec27d6f",
   "metadata": {},
   "outputs": [
    {
     "data": {
      "text/html": [
       "<div>\n",
       "<style scoped>\n",
       "    .dataframe tbody tr th:only-of-type {\n",
       "        vertical-align: middle;\n",
       "    }\n",
       "\n",
       "    .dataframe tbody tr th {\n",
       "        vertical-align: top;\n",
       "    }\n",
       "\n",
       "    .dataframe thead th {\n",
       "        text-align: right;\n",
       "    }\n",
       "</style>\n",
       "<table border=\"1\" class=\"dataframe\">\n",
       "  <thead>\n",
       "    <tr style=\"text-align: right;\">\n",
       "      <th></th>\n",
       "      <th>Id da Delegacia (RDO)</th>\n",
       "      <th>Número do Bo (RDO)</th>\n",
       "      <th>Ano do BO (RDO)</th>\n",
       "      <th>Data do Óbito</th>\n",
       "      <th>Data do Acidente</th>\n",
       "      <th>Tipo de via</th>\n",
       "      <th>Dia do óbito</th>\n",
       "      <th>Mês do Óbito</th>\n",
       "      <th>Mês Óbito Descrição</th>\n",
       "      <th>Ano do Óbito</th>\n",
       "      <th>...</th>\n",
       "      <th>Tipo do veículo da vítima</th>\n",
       "      <th>Tipo de vítima</th>\n",
       "      <th>Local do óbito</th>\n",
       "      <th>Tipo de acidente</th>\n",
       "      <th>Sub Tipo do Acidente</th>\n",
       "      <th>Sexo</th>\n",
       "      <th>Faixa etária</th>\n",
       "      <th>Idade da vítima</th>\n",
       "      <th>Outro Veículo Envolvido</th>\n",
       "      <th>Tempo entre o Acidente e o Óbito</th>\n",
       "    </tr>\n",
       "  </thead>\n",
       "  <tbody>\n",
       "    <tr>\n",
       "      <th>0</th>\n",
       "      <td>10336</td>\n",
       "      <td>1008887561</td>\n",
       "      <td>2024</td>\n",
       "      <td>2024-01-31</td>\n",
       "      <td>2024-01-31</td>\n",
       "      <td>Rodovias</td>\n",
       "      <td>31</td>\n",
       "      <td>1</td>\n",
       "      <td>JANEIRO</td>\n",
       "      <td>2024</td>\n",
       "      <td>...</td>\n",
       "      <td>PEDESTRE</td>\n",
       "      <td>PEDESTRE</td>\n",
       "      <td>VIA</td>\n",
       "      <td>ATROPELAMENTO</td>\n",
       "      <td>CRUZANDO A VIA</td>\n",
       "      <td>MASCULINO</td>\n",
       "      <td>NAO DISPONIVEL</td>\n",
       "      <td>NAO DISPONIVEL</td>\n",
       "      <td>AUTOMOVEL</td>\n",
       "      <td>Até 30 dias</td>\n",
       "    </tr>\n",
       "    <tr>\n",
       "      <th>1</th>\n",
       "      <td>60004</td>\n",
       "      <td>1008902014</td>\n",
       "      <td>2024</td>\n",
       "      <td>2024-01-31</td>\n",
       "      <td>2024-01-31</td>\n",
       "      <td>Rodovias</td>\n",
       "      <td>31</td>\n",
       "      <td>1</td>\n",
       "      <td>JANEIRO</td>\n",
       "      <td>2024</td>\n",
       "      <td>...</td>\n",
       "      <td>MOTOCICLETA</td>\n",
       "      <td>PASSAGEIRO</td>\n",
       "      <td>ESTABELECIMENTO DE SAUDE</td>\n",
       "      <td>COLISAO</td>\n",
       "      <td>NAO DISPONIVEL</td>\n",
       "      <td>MASCULINO</td>\n",
       "      <td>40-44</td>\n",
       "      <td>42</td>\n",
       "      <td>CAMINHAO</td>\n",
       "      <td>Até 30 dias</td>\n",
       "    </tr>\n",
       "    <tr>\n",
       "      <th>2</th>\n",
       "      <td>70948</td>\n",
       "      <td>1008887525</td>\n",
       "      <td>2024</td>\n",
       "      <td>2024-01-31</td>\n",
       "      <td>2024-01-31</td>\n",
       "      <td>Rodovias</td>\n",
       "      <td>31</td>\n",
       "      <td>1</td>\n",
       "      <td>JANEIRO</td>\n",
       "      <td>2024</td>\n",
       "      <td>...</td>\n",
       "      <td>CAMINHAO</td>\n",
       "      <td>CONDUTOR</td>\n",
       "      <td>ESTABELECIMENTO DE SAUDE</td>\n",
       "      <td>ATROPELAMENTO</td>\n",
       "      <td>CONDUTOR/PASSAGEIROS FORA DO VEÍCULO</td>\n",
       "      <td>MASCULINO</td>\n",
       "      <td>45-49</td>\n",
       "      <td>45</td>\n",
       "      <td>AUTOMOVEL</td>\n",
       "      <td>Até 30 dias</td>\n",
       "    </tr>\n",
       "    <tr>\n",
       "      <th>3</th>\n",
       "      <td>30303</td>\n",
       "      <td>1008580861</td>\n",
       "      <td>2024</td>\n",
       "      <td>2024-01-31</td>\n",
       "      <td>2024-01-07</td>\n",
       "      <td>Rodovias</td>\n",
       "      <td>31</td>\n",
       "      <td>1</td>\n",
       "      <td>JANEIRO</td>\n",
       "      <td>2024</td>\n",
       "      <td>...</td>\n",
       "      <td>MOTOCICLETA</td>\n",
       "      <td>CONDUTOR</td>\n",
       "      <td>ESTABELECIMENTO DE SAUDE</td>\n",
       "      <td>COLISAO</td>\n",
       "      <td>NAO DISPONIVEL</td>\n",
       "      <td>MASCULINO</td>\n",
       "      <td>30-34</td>\n",
       "      <td>33</td>\n",
       "      <td>CAMINHAO</td>\n",
       "      <td>Até 30 dias</td>\n",
       "    </tr>\n",
       "    <tr>\n",
       "      <th>4</th>\n",
       "      <td>70814</td>\n",
       "      <td>1008898150</td>\n",
       "      <td>2024</td>\n",
       "      <td>2024-01-31</td>\n",
       "      <td>2024-01-31</td>\n",
       "      <td>Rodovias</td>\n",
       "      <td>31</td>\n",
       "      <td>1</td>\n",
       "      <td>JANEIRO</td>\n",
       "      <td>2024</td>\n",
       "      <td>...</td>\n",
       "      <td>AUTOMOVEL</td>\n",
       "      <td>CONDUTOR</td>\n",
       "      <td>VIA</td>\n",
       "      <td>COLISAO</td>\n",
       "      <td>FRONTAL</td>\n",
       "      <td>MASCULINO</td>\n",
       "      <td>80 ou mais</td>\n",
       "      <td>90</td>\n",
       "      <td>CAMINHAO</td>\n",
       "      <td>Até 30 dias</td>\n",
       "    </tr>\n",
       "  </tbody>\n",
       "</table>\n",
       "<p>5 rows × 34 columns</p>\n",
       "</div>"
      ],
      "text/plain": [
       "   Id da Delegacia (RDO)  Número do Bo (RDO)  Ano do BO (RDO) Data do Óbito  \\\n",
       "0                  10336          1008887561             2024    2024-01-31   \n",
       "1                  60004          1008902014             2024    2024-01-31   \n",
       "2                  70948          1008887525             2024    2024-01-31   \n",
       "3                  30303          1008580861             2024    2024-01-31   \n",
       "4                  70814          1008898150             2024    2024-01-31   \n",
       "\n",
       "  Data do Acidente Tipo de via  Dia do óbito  Mês do Óbito  \\\n",
       "0       2024-01-31    Rodovias            31             1   \n",
       "1       2024-01-31    Rodovias            31             1   \n",
       "2       2024-01-31    Rodovias            31             1   \n",
       "3       2024-01-07    Rodovias            31             1   \n",
       "4       2024-01-31    Rodovias            31             1   \n",
       "\n",
       "  Mês Óbito Descrição  Ano do Óbito  ...  Tipo do veículo da vítima  \\\n",
       "0             JANEIRO          2024  ...                   PEDESTRE   \n",
       "1             JANEIRO          2024  ...                MOTOCICLETA   \n",
       "2             JANEIRO          2024  ...                   CAMINHAO   \n",
       "3             JANEIRO          2024  ...                MOTOCICLETA   \n",
       "4             JANEIRO          2024  ...                  AUTOMOVEL   \n",
       "\n",
       "  Tipo de vítima            Local do óbito Tipo de acidente  \\\n",
       "0       PEDESTRE                       VIA    ATROPELAMENTO   \n",
       "1     PASSAGEIRO  ESTABELECIMENTO DE SAUDE          COLISAO   \n",
       "2       CONDUTOR  ESTABELECIMENTO DE SAUDE    ATROPELAMENTO   \n",
       "3       CONDUTOR  ESTABELECIMENTO DE SAUDE          COLISAO   \n",
       "4       CONDUTOR                       VIA          COLISAO   \n",
       "\n",
       "                   Sub Tipo do Acidente       Sexo    Faixa etária  \\\n",
       "0                        CRUZANDO A VIA  MASCULINO  NAO DISPONIVEL   \n",
       "1                        NAO DISPONIVEL  MASCULINO           40-44   \n",
       "2  CONDUTOR/PASSAGEIROS FORA DO VEÍCULO  MASCULINO           45-49   \n",
       "3                        NAO DISPONIVEL  MASCULINO           30-34   \n",
       "4                               FRONTAL  MASCULINO      80 ou mais   \n",
       "\n",
       "  Idade da vítima Outro Veículo Envolvido Tempo entre o Acidente e o Óbito  \n",
       "0  NAO DISPONIVEL               AUTOMOVEL                      Até 30 dias  \n",
       "1              42                CAMINHAO                      Até 30 dias  \n",
       "2              45               AUTOMOVEL                      Até 30 dias  \n",
       "3              33                CAMINHAO                      Até 30 dias  \n",
       "4              90                CAMINHAO                      Até 30 dias  \n",
       "\n",
       "[5 rows x 34 columns]"
      ]
     },
     "execution_count": 4,
     "metadata": {},
     "output_type": "execute_result"
    }
   ],
   "source": [
    "# mostrar as 5 primeiras entradas\n",
    "df.head()"
   ]
  },
  {
   "cell_type": "markdown",
   "id": "dfac7a7c",
   "metadata": {},
   "source": [
    "### Algumas dessas colunas não serão necessárias para nossa análise, portanto, faremos agora uma limpeza do nosso DataFrame <h3>"
   ]
  },
  {
   "cell_type": "code",
   "execution_count": 5,
   "id": "dc3ecc6c",
   "metadata": {},
   "outputs": [
    {
     "data": {
      "text/plain": [
       "Index(['Id da Delegacia (RDO)', 'Número do Bo (RDO)', 'Ano do BO (RDO)',\n",
       "       'Data do Óbito', 'Data do Acidente', 'Tipo de via', 'Dia do óbito',\n",
       "       'Mês do Óbito', 'Mês Óbito Descrição', 'Ano do Óbito',\n",
       "       'Ano/Mês do Óbito', 'Dia da Semana', 'Hora do Acidente', 'Turno',\n",
       "       'Município', 'Região Administrativa', 'Logradouro', 'Númeral / KM',\n",
       "       'Jurisdição', 'Administração', 'Conservação',\n",
       "       'Tipo do local da ocorrência', 'LAT_(GEO)', 'LONG_(GEO)',\n",
       "       'Tipo do veículo da vítima', 'Tipo de vítima', 'Local do óbito',\n",
       "       'Tipo de acidente', 'Sub Tipo do Acidente', 'Sexo', 'Faixa etária',\n",
       "       'Idade da vítima', 'Outro Veículo Envolvido',\n",
       "       'Tempo entre o Acidente e o Óbito'],\n",
       "      dtype='object')"
      ]
     },
     "execution_count": 5,
     "metadata": {},
     "output_type": "execute_result"
    }
   ],
   "source": [
    "#Visualizar o nome de todas as colunas para manter apenas as necessárias\n",
    "df.columns"
   ]
  },
  {
   "cell_type": "code",
   "execution_count": 6,
   "id": "b26c45a7",
   "metadata": {},
   "outputs": [],
   "source": [
    "#Remove as colunas que não serão utilizadas\n",
    "df = df.drop(columns=['Local do óbito', 'Ano do BO (RDO)', 'Id da Delegacia (RDO)','Número do Bo (RDO)', 'Data do Óbito', 'Dia do óbito',\n",
    "       'Mês do Óbito', 'Mês Óbito Descrição', 'Ano/Mês do Óbito', 'Ano do Óbito', 'Região Administrativa', 'Logradouro', 'Númeral / KM', 'Jurisdição', 'Administração','Conservação',\n",
    "       'Tipo do local da ocorrência', 'LAT_(GEO)', 'LONG_(GEO)','Sub Tipo do Acidente', 'Faixa etária', 'Outro Veículo Envolvido',\n",
    "       'Tempo entre o Acidente e o Óbito'])"
   ]
  },
  {
   "cell_type": "code",
   "execution_count": 7,
   "id": "ff06ba00",
   "metadata": {},
   "outputs": [
    {
     "data": {
      "text/plain": [
       "Index(['Data do Acidente', 'Tipo de via', 'Dia da Semana', 'Hora do Acidente',\n",
       "       'Turno', 'Município', 'Tipo do veículo da vítima', 'Tipo de vítima',\n",
       "       'Tipo de acidente', 'Sexo', 'Idade da vítima'],\n",
       "      dtype='object')"
      ]
     },
     "execution_count": 7,
     "metadata": {},
     "output_type": "execute_result"
    }
   ],
   "source": [
    "#Verificar se a remoção das colunas foi bem sucedida\n",
    "df.columns"
   ]
  },
  {
   "cell_type": "code",
   "execution_count": 8,
   "id": "678e20d4",
   "metadata": {},
   "outputs": [
    {
     "data": {
      "text/html": [
       "<div>\n",
       "<style scoped>\n",
       "    .dataframe tbody tr th:only-of-type {\n",
       "        vertical-align: middle;\n",
       "    }\n",
       "\n",
       "    .dataframe tbody tr th {\n",
       "        vertical-align: top;\n",
       "    }\n",
       "\n",
       "    .dataframe thead th {\n",
       "        text-align: right;\n",
       "    }\n",
       "</style>\n",
       "<table border=\"1\" class=\"dataframe\">\n",
       "  <thead>\n",
       "    <tr style=\"text-align: right;\">\n",
       "      <th></th>\n",
       "      <th>Data do Acidente</th>\n",
       "      <th>Tipo de via</th>\n",
       "      <th>Dia da Semana</th>\n",
       "      <th>Hora do Acidente</th>\n",
       "      <th>Turno</th>\n",
       "      <th>Município</th>\n",
       "      <th>Tipo do veículo da vítima</th>\n",
       "      <th>Tipo de vítima</th>\n",
       "      <th>Tipo de acidente</th>\n",
       "      <th>Sexo</th>\n",
       "      <th>Idade da vítima</th>\n",
       "    </tr>\n",
       "  </thead>\n",
       "  <tbody>\n",
       "    <tr>\n",
       "      <th>0</th>\n",
       "      <td>2024-01-31</td>\n",
       "      <td>Rodovias</td>\n",
       "      <td>QUARTA</td>\n",
       "      <td>04:40:00</td>\n",
       "      <td>MADRUGADA</td>\n",
       "      <td>SAO PAULO</td>\n",
       "      <td>PEDESTRE</td>\n",
       "      <td>PEDESTRE</td>\n",
       "      <td>ATROPELAMENTO</td>\n",
       "      <td>MASCULINO</td>\n",
       "      <td>NAO DISPONIVEL</td>\n",
       "    </tr>\n",
       "    <tr>\n",
       "      <th>1</th>\n",
       "      <td>2024-01-31</td>\n",
       "      <td>Rodovias</td>\n",
       "      <td>QUARTA</td>\n",
       "      <td>16:22:00</td>\n",
       "      <td>TARDE</td>\n",
       "      <td>LENCOIS PAULISTA</td>\n",
       "      <td>MOTOCICLETA</td>\n",
       "      <td>PASSAGEIRO</td>\n",
       "      <td>COLISAO</td>\n",
       "      <td>MASCULINO</td>\n",
       "      <td>42</td>\n",
       "    </tr>\n",
       "    <tr>\n",
       "      <th>2</th>\n",
       "      <td>2024-01-31</td>\n",
       "      <td>Rodovias</td>\n",
       "      <td>QUARTA</td>\n",
       "      <td>05:40:00</td>\n",
       "      <td>MADRUGADA</td>\n",
       "      <td>ITATIBA</td>\n",
       "      <td>CAMINHAO</td>\n",
       "      <td>CONDUTOR</td>\n",
       "      <td>ATROPELAMENTO</td>\n",
       "      <td>MASCULINO</td>\n",
       "      <td>45</td>\n",
       "    </tr>\n",
       "    <tr>\n",
       "      <th>3</th>\n",
       "      <td>2024-01-07</td>\n",
       "      <td>Rodovias</td>\n",
       "      <td>DOMINGO</td>\n",
       "      <td>17:10:00</td>\n",
       "      <td>TARDE</td>\n",
       "      <td>GUARAREMA</td>\n",
       "      <td>MOTOCICLETA</td>\n",
       "      <td>CONDUTOR</td>\n",
       "      <td>COLISAO</td>\n",
       "      <td>MASCULINO</td>\n",
       "      <td>33</td>\n",
       "    </tr>\n",
       "    <tr>\n",
       "      <th>4</th>\n",
       "      <td>2024-01-31</td>\n",
       "      <td>Rodovias</td>\n",
       "      <td>QUARTA</td>\n",
       "      <td>13:40:00</td>\n",
       "      <td>TARDE</td>\n",
       "      <td>PIRASSUNUNGA</td>\n",
       "      <td>AUTOMOVEL</td>\n",
       "      <td>CONDUTOR</td>\n",
       "      <td>COLISAO</td>\n",
       "      <td>MASCULINO</td>\n",
       "      <td>90</td>\n",
       "    </tr>\n",
       "  </tbody>\n",
       "</table>\n",
       "</div>"
      ],
      "text/plain": [
       "  Data do Acidente Tipo de via Dia da Semana Hora do Acidente      Turno  \\\n",
       "0       2024-01-31    Rodovias        QUARTA         04:40:00  MADRUGADA   \n",
       "1       2024-01-31    Rodovias        QUARTA         16:22:00      TARDE   \n",
       "2       2024-01-31    Rodovias        QUARTA         05:40:00  MADRUGADA   \n",
       "3       2024-01-07    Rodovias       DOMINGO         17:10:00      TARDE   \n",
       "4       2024-01-31    Rodovias        QUARTA         13:40:00      TARDE   \n",
       "\n",
       "          Município Tipo do veículo da vítima Tipo de vítima Tipo de acidente  \\\n",
       "0         SAO PAULO                  PEDESTRE       PEDESTRE    ATROPELAMENTO   \n",
       "1  LENCOIS PAULISTA               MOTOCICLETA     PASSAGEIRO          COLISAO   \n",
       "2           ITATIBA                  CAMINHAO       CONDUTOR    ATROPELAMENTO   \n",
       "3         GUARAREMA               MOTOCICLETA       CONDUTOR          COLISAO   \n",
       "4      PIRASSUNUNGA                 AUTOMOVEL       CONDUTOR          COLISAO   \n",
       "\n",
       "        Sexo Idade da vítima  \n",
       "0  MASCULINO  NAO DISPONIVEL  \n",
       "1  MASCULINO              42  \n",
       "2  MASCULINO              45  \n",
       "3  MASCULINO              33  \n",
       "4  MASCULINO              90  "
      ]
     },
     "execution_count": 8,
     "metadata": {},
     "output_type": "execute_result"
    }
   ],
   "source": [
    "#Vamos visualizar novamente nossos primeiros registros\n",
    "df.head()"
   ]
  },
  {
   "cell_type": "code",
   "execution_count": 12,
   "id": "c1a9a8e1",
   "metadata": {},
   "outputs": [
    {
     "name": "stdout",
     "output_type": "stream",
     "text": [
      "<class 'pandas.core.frame.DataFrame'>\n",
      "RangeIndex: 50620 entries, 0 to 50619\n",
      "Data columns (total 11 columns):\n",
      " #   Column                     Non-Null Count  Dtype \n",
      "---  ------                     --------------  ----- \n",
      " 0   Data do Acidente           50620 non-null  object\n",
      " 1   Tipo de via                50620 non-null  object\n",
      " 2   Dia da Semana              50620 non-null  object\n",
      " 3   Hora do Acidente           50620 non-null  object\n",
      " 4   Turno                      50620 non-null  object\n",
      " 5   Município                  50620 non-null  object\n",
      " 6   Tipo do veículo da vítima  50620 non-null  object\n",
      " 7   Tipo de vítima             50620 non-null  object\n",
      " 8   Tipo de acidente           50620 non-null  object\n",
      " 9   Sexo                       50620 non-null  object\n",
      " 10  Idade da vítima            50620 non-null  object\n",
      "dtypes: object(11)\n",
      "memory usage: 4.2+ MB\n"
     ]
    }
   ],
   "source": [
    "#Identificando se há colunas com valores não nulos e seus tipos.\n",
    "df.info()"
   ]
  },
  {
   "cell_type": "code",
   "execution_count": 15,
   "id": "e75f837b",
   "metadata": {},
   "outputs": [],
   "source": [
    "#Acho que ainda dá pra ter um toque final, antes de darmos inicio as análises! Vamos separar a data do acidente em 3 novas colunas\n",
    "df['Dia do Acidente'] = pd.to_datetime(df['Data do Acidente']).dt.day\n",
    "df['Mês do Acidente'] = pd.to_datetime(df['Data do Acidente']).dt.month\n",
    "df['Ano do Acidente'] = pd.to_datetime(df['Data do Acidente']).dt.year"
   ]
  },
  {
   "cell_type": "code",
   "execution_count": 18,
   "id": "5a3d54cb",
   "metadata": {},
   "outputs": [
    {
     "data": {
      "text/html": [
       "<div>\n",
       "<style scoped>\n",
       "    .dataframe tbody tr th:only-of-type {\n",
       "        vertical-align: middle;\n",
       "    }\n",
       "\n",
       "    .dataframe tbody tr th {\n",
       "        vertical-align: top;\n",
       "    }\n",
       "\n",
       "    .dataframe thead th {\n",
       "        text-align: right;\n",
       "    }\n",
       "</style>\n",
       "<table border=\"1\" class=\"dataframe\">\n",
       "  <thead>\n",
       "    <tr style=\"text-align: right;\">\n",
       "      <th></th>\n",
       "      <th>Tipo de via</th>\n",
       "      <th>Dia da Semana</th>\n",
       "      <th>Hora do Acidente</th>\n",
       "      <th>Turno</th>\n",
       "      <th>Município</th>\n",
       "      <th>Tipo do veículo da vítima</th>\n",
       "      <th>Tipo de vítima</th>\n",
       "      <th>Tipo de acidente</th>\n",
       "      <th>Sexo</th>\n",
       "      <th>Idade da vítima</th>\n",
       "      <th>Dia do Acidente</th>\n",
       "      <th>Mês do Acidente</th>\n",
       "      <th>Ano do Acidente</th>\n",
       "    </tr>\n",
       "  </thead>\n",
       "  <tbody>\n",
       "    <tr>\n",
       "      <th>0</th>\n",
       "      <td>Rodovias</td>\n",
       "      <td>QUARTA</td>\n",
       "      <td>04:40:00</td>\n",
       "      <td>MADRUGADA</td>\n",
       "      <td>SAO PAULO</td>\n",
       "      <td>PEDESTRE</td>\n",
       "      <td>PEDESTRE</td>\n",
       "      <td>ATROPELAMENTO</td>\n",
       "      <td>MASCULINO</td>\n",
       "      <td>NAO DISPONIVEL</td>\n",
       "      <td>31</td>\n",
       "      <td>1</td>\n",
       "      <td>2024</td>\n",
       "    </tr>\n",
       "    <tr>\n",
       "      <th>1</th>\n",
       "      <td>Rodovias</td>\n",
       "      <td>QUARTA</td>\n",
       "      <td>16:22:00</td>\n",
       "      <td>TARDE</td>\n",
       "      <td>LENCOIS PAULISTA</td>\n",
       "      <td>MOTOCICLETA</td>\n",
       "      <td>PASSAGEIRO</td>\n",
       "      <td>COLISAO</td>\n",
       "      <td>MASCULINO</td>\n",
       "      <td>42</td>\n",
       "      <td>31</td>\n",
       "      <td>1</td>\n",
       "      <td>2024</td>\n",
       "    </tr>\n",
       "    <tr>\n",
       "      <th>2</th>\n",
       "      <td>Rodovias</td>\n",
       "      <td>QUARTA</td>\n",
       "      <td>05:40:00</td>\n",
       "      <td>MADRUGADA</td>\n",
       "      <td>ITATIBA</td>\n",
       "      <td>CAMINHAO</td>\n",
       "      <td>CONDUTOR</td>\n",
       "      <td>ATROPELAMENTO</td>\n",
       "      <td>MASCULINO</td>\n",
       "      <td>45</td>\n",
       "      <td>31</td>\n",
       "      <td>1</td>\n",
       "      <td>2024</td>\n",
       "    </tr>\n",
       "    <tr>\n",
       "      <th>3</th>\n",
       "      <td>Rodovias</td>\n",
       "      <td>DOMINGO</td>\n",
       "      <td>17:10:00</td>\n",
       "      <td>TARDE</td>\n",
       "      <td>GUARAREMA</td>\n",
       "      <td>MOTOCICLETA</td>\n",
       "      <td>CONDUTOR</td>\n",
       "      <td>COLISAO</td>\n",
       "      <td>MASCULINO</td>\n",
       "      <td>33</td>\n",
       "      <td>7</td>\n",
       "      <td>1</td>\n",
       "      <td>2024</td>\n",
       "    </tr>\n",
       "    <tr>\n",
       "      <th>4</th>\n",
       "      <td>Rodovias</td>\n",
       "      <td>QUARTA</td>\n",
       "      <td>13:40:00</td>\n",
       "      <td>TARDE</td>\n",
       "      <td>PIRASSUNUNGA</td>\n",
       "      <td>AUTOMOVEL</td>\n",
       "      <td>CONDUTOR</td>\n",
       "      <td>COLISAO</td>\n",
       "      <td>MASCULINO</td>\n",
       "      <td>90</td>\n",
       "      <td>31</td>\n",
       "      <td>1</td>\n",
       "      <td>2024</td>\n",
       "    </tr>\n",
       "    <tr>\n",
       "      <th>...</th>\n",
       "      <td>...</td>\n",
       "      <td>...</td>\n",
       "      <td>...</td>\n",
       "      <td>...</td>\n",
       "      <td>...</td>\n",
       "      <td>...</td>\n",
       "      <td>...</td>\n",
       "      <td>...</td>\n",
       "      <td>...</td>\n",
       "      <td>...</td>\n",
       "      <td>...</td>\n",
       "      <td>...</td>\n",
       "      <td>...</td>\n",
       "    </tr>\n",
       "    <tr>\n",
       "      <th>50615</th>\n",
       "      <td>Vias Municipais</td>\n",
       "      <td>QUINTA</td>\n",
       "      <td>19:20:00</td>\n",
       "      <td>NOITE</td>\n",
       "      <td>HORTOLANDIA</td>\n",
       "      <td>BICICLETA</td>\n",
       "      <td>CONDUTOR</td>\n",
       "      <td>CHOQUE</td>\n",
       "      <td>MASCULINO</td>\n",
       "      <td>44</td>\n",
       "      <td>1</td>\n",
       "      <td>1</td>\n",
       "      <td>2015</td>\n",
       "    </tr>\n",
       "    <tr>\n",
       "      <th>50616</th>\n",
       "      <td>Vias Municipais</td>\n",
       "      <td>QUINTA</td>\n",
       "      <td>16:00:00</td>\n",
       "      <td>TARDE</td>\n",
       "      <td>ZACARIAS</td>\n",
       "      <td>AUTOMOVEL</td>\n",
       "      <td>CONDUTOR</td>\n",
       "      <td>OUTROS</td>\n",
       "      <td>MASCULINO</td>\n",
       "      <td>42</td>\n",
       "      <td>1</td>\n",
       "      <td>1</td>\n",
       "      <td>2015</td>\n",
       "    </tr>\n",
       "    <tr>\n",
       "      <th>50617</th>\n",
       "      <td>Vias Municipais</td>\n",
       "      <td>DOMINGO</td>\n",
       "      <td>23:15:00</td>\n",
       "      <td>NOITE</td>\n",
       "      <td>SAO PAULO</td>\n",
       "      <td>AUTOMOVEL</td>\n",
       "      <td>PASSAGEIRO</td>\n",
       "      <td>COLISAO</td>\n",
       "      <td>FEMININO</td>\n",
       "      <td>42</td>\n",
       "      <td>27</td>\n",
       "      <td>7</td>\n",
       "      <td>2014</td>\n",
       "    </tr>\n",
       "    <tr>\n",
       "      <th>50618</th>\n",
       "      <td>Vias Municipais</td>\n",
       "      <td>QUINTA</td>\n",
       "      <td>NAO DISPONIVEL</td>\n",
       "      <td>NAO DISPONIVEL</td>\n",
       "      <td>SUMARE</td>\n",
       "      <td>PEDESTRE</td>\n",
       "      <td>PEDESTRE</td>\n",
       "      <td>ATROPELAMENTO</td>\n",
       "      <td>MASCULINO</td>\n",
       "      <td>66</td>\n",
       "      <td>1</td>\n",
       "      <td>1</td>\n",
       "      <td>2015</td>\n",
       "    </tr>\n",
       "    <tr>\n",
       "      <th>50619</th>\n",
       "      <td>Vias Municipais</td>\n",
       "      <td>QUINTA</td>\n",
       "      <td>05:00:00</td>\n",
       "      <td>MADRUGADA</td>\n",
       "      <td>SAO CARLOS</td>\n",
       "      <td>MOTOCICLETA</td>\n",
       "      <td>CONDUTOR</td>\n",
       "      <td>COLISAO</td>\n",
       "      <td>MASCULINO</td>\n",
       "      <td>33</td>\n",
       "      <td>1</td>\n",
       "      <td>1</td>\n",
       "      <td>2015</td>\n",
       "    </tr>\n",
       "  </tbody>\n",
       "</table>\n",
       "<p>50620 rows × 13 columns</p>\n",
       "</div>"
      ],
      "text/plain": [
       "           Tipo de via Dia da Semana Hora do Acidente           Turno  \\\n",
       "0             Rodovias        QUARTA         04:40:00       MADRUGADA   \n",
       "1             Rodovias        QUARTA         16:22:00           TARDE   \n",
       "2             Rodovias        QUARTA         05:40:00       MADRUGADA   \n",
       "3             Rodovias       DOMINGO         17:10:00           TARDE   \n",
       "4             Rodovias        QUARTA         13:40:00           TARDE   \n",
       "...                ...           ...              ...             ...   \n",
       "50615  Vias Municipais        QUINTA         19:20:00           NOITE   \n",
       "50616  Vias Municipais        QUINTA         16:00:00           TARDE   \n",
       "50617  Vias Municipais       DOMINGO         23:15:00           NOITE   \n",
       "50618  Vias Municipais        QUINTA   NAO DISPONIVEL  NAO DISPONIVEL   \n",
       "50619  Vias Municipais        QUINTA         05:00:00       MADRUGADA   \n",
       "\n",
       "              Município Tipo do veículo da vítima Tipo de vítima  \\\n",
       "0             SAO PAULO                  PEDESTRE       PEDESTRE   \n",
       "1      LENCOIS PAULISTA               MOTOCICLETA     PASSAGEIRO   \n",
       "2               ITATIBA                  CAMINHAO       CONDUTOR   \n",
       "3             GUARAREMA               MOTOCICLETA       CONDUTOR   \n",
       "4          PIRASSUNUNGA                 AUTOMOVEL       CONDUTOR   \n",
       "...                 ...                       ...            ...   \n",
       "50615       HORTOLANDIA                 BICICLETA       CONDUTOR   \n",
       "50616          ZACARIAS                 AUTOMOVEL       CONDUTOR   \n",
       "50617         SAO PAULO                 AUTOMOVEL     PASSAGEIRO   \n",
       "50618            SUMARE                  PEDESTRE       PEDESTRE   \n",
       "50619        SAO CARLOS               MOTOCICLETA       CONDUTOR   \n",
       "\n",
       "      Tipo de acidente       Sexo Idade da vítima  Dia do Acidente  \\\n",
       "0        ATROPELAMENTO  MASCULINO  NAO DISPONIVEL               31   \n",
       "1              COLISAO  MASCULINO              42               31   \n",
       "2        ATROPELAMENTO  MASCULINO              45               31   \n",
       "3              COLISAO  MASCULINO              33                7   \n",
       "4              COLISAO  MASCULINO              90               31   \n",
       "...                ...        ...             ...              ...   \n",
       "50615           CHOQUE  MASCULINO              44                1   \n",
       "50616           OUTROS  MASCULINO              42                1   \n",
       "50617          COLISAO   FEMININO              42               27   \n",
       "50618    ATROPELAMENTO  MASCULINO              66                1   \n",
       "50619          COLISAO  MASCULINO              33                1   \n",
       "\n",
       "       Mês do Acidente  Ano do Acidente  \n",
       "0                    1             2024  \n",
       "1                    1             2024  \n",
       "2                    1             2024  \n",
       "3                    1             2024  \n",
       "4                    1             2024  \n",
       "...                ...              ...  \n",
       "50615                1             2015  \n",
       "50616                1             2015  \n",
       "50617                7             2014  \n",
       "50618                1             2015  \n",
       "50619                1             2015  \n",
       "\n",
       "[50620 rows x 13 columns]"
      ]
     },
     "execution_count": 18,
     "metadata": {},
     "output_type": "execute_result"
    }
   ],
   "source": [
    "df.drop(['Data do Acidente'], axis=1)"
   ]
  },
  {
   "cell_type": "markdown",
   "id": "3a6e551b",
   "metadata": {},
   "source": [
    "### Q1. Na cidade de Franca, qual o tipo de acidente com maior incidência? "
   ]
  },
  {
   "cell_type": "code",
   "execution_count": 24,
   "id": "af85e5f0",
   "metadata": {},
   "outputs": [
    {
     "name": "stdout",
     "output_type": "stream",
     "text": [
      "COLISAO\n"
     ]
    }
   ],
   "source": [
    "#Devemos primeiro filtrar o municipio no qual vamos consultar\n",
    "df_franca = df.loc[df['Município'].str.contains('FRANCA')]\n",
    "                      \n",
    "contagem_tipo_acidente = df_franca.groupby('Tipo de acidente').size().sort_values(ascending=False)\n",
    "\n",
    "maior_incidencia = contagem_tipo_acidente.index[0]\n",
    "\n",
    "print(maior_incidencia)"
   ]
  },
  {
   "cell_type": "markdown",
   "id": "6fac725f",
   "metadata": {},
   "source": [
    "### Q2.Aproveitando nosso filtro, vamos visualizar em um gráfico de barras o tipo de veículo e sua quantidade de ocorrências na cidade de Franca."
   ]
  },
  {
   "cell_type": "code",
   "execution_count": 45,
   "id": "ac6c4589",
   "metadata": {},
   "outputs": [
    {
     "data": {
      "image/png": "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",
      "text/plain": [
       "<Figure size 640x480 with 1 Axes>"
      ]
     },
     "metadata": {},
     "output_type": "display_data"
    }
   ],
   "source": [
    "#Para esse resultado, vamos utilizar um barplot\n",
    "acidentes_por_veiculo = df_franca.groupby('Tipo do veículo da vítima').size().sort_values(ascending=False)\n",
    "\n",
    "sns.barplot(x=acidentes_por_veiculo.index, y=acidentes_por_veiculo.values)\n",
    "plt.xticks(rotation=45)\n",
    "plt.title(\"Quantidade Total de Acidentes por Tipo de Veículo\")\n",
    "plt.xlabel(\"Tipo do Veículo\")\n",
    "plt.ylabel(\"Quantidade Total de Acidentes\")\n",
    "plt.show()"
   ]
  },
  {
   "cell_type": "markdown",
   "id": "abce3830",
   "metadata": {},
   "source": [
    "### Q3.Número de acidentes por gênero"
   ]
  },
  {
   "cell_type": "code",
   "execution_count": 60,
   "id": "e7e32f97",
   "metadata": {},
   "outputs": [
    {
     "data": {
      "text/plain": [
       "Sexo\n",
       "MASCULINO         307\n",
       "FEMININO           79\n",
       "NAO DISPONIVEL      1\n",
       "Name: count, dtype: int64"
      ]
     },
     "execution_count": 60,
     "metadata": {},
     "output_type": "execute_result"
    }
   ],
   "source": [
    "df_franca['Sexo'].value_counts()"
   ]
  },
  {
   "cell_type": "markdown",
   "id": "420187d5",
   "metadata": {},
   "source": [
    "### Q4. Compare a hora do acidente com o tipo de via. A Rodovia teve mais acidentes durante a noite, ou durante o dia/madrugada?"
   ]
  },
  {
   "cell_type": "code",
   "execution_count": 71,
   "id": "77031976",
   "metadata": {},
   "outputs": [],
   "source": [
    "#Será necessário excluir os valores \"NAO DISPONIVEL\" dessa coluna, para podermos prosseguir com a consulta\n",
    "df_franca.drop(df_franca[df_franca['Hora do Acidente'] == 'NAO DISPONIVEL'].index, inplace=True)\n",
    "df_franca.drop(df_franca[df_franca['Tipo de via'] == 'NAO DISPONIVEL'].index, inplace=True)"
   ]
  },
  {
   "cell_type": "code",
   "execution_count": 67,
   "id": "1c08c4ae",
   "metadata": {},
   "outputs": [],
   "source": [
    "# Converter a coluna 'Hora do Acidente' para o tipo datetime\n",
    "df_franca['Hora do Acidente'] = pd.to_datetime(df_franca['Hora do Acidente'], format='%H:%M')"
   ]
  },
  {
   "cell_type": "code",
   "execution_count": 82,
   "id": "947d0660",
   "metadata": {},
   "outputs": [],
   "source": [
    "# Para o gráfico a seguir, o horário deverá ser convertido para uma representação numérica\n",
    "df_franca['Hora Numerica'] = df_franca['Hora do Acidente'].dt.hour"
   ]
  },
  {
   "cell_type": "code",
   "execution_count": 84,
   "id": "8425faf9",
   "metadata": {},
   "outputs": [
    {
     "data": {
      "image/png": "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",
      "text/plain": [
       "<Figure size 1000x600 with 1 Axes>"
      ]
     },
     "metadata": {},
     "output_type": "display_data"
    }
   ],
   "source": [
    "plt.figure(figsize=(10, 6))\n",
    "sns.boxplot(data=df_franca, x='Tipo de via', y='Hora Numerica')\n",
    "\n",
    "plt.xlabel('Tipo de via')\n",
    "plt.ylabel('Hora do Acidente')\n",
    "plt.title('Boxplot: Tipo de via vs. Hora do Acidente')\n",
    "plt.xticks(rotation=45)\n",
    "plt.show()"
   ]
  },
  {
   "cell_type": "markdown",
   "id": "7f730f31",
   "metadata": {},
   "source": [
    "### Q5. Acidentes por dias da semana"
   ]
  },
  {
   "cell_type": "code",
   "execution_count": 87,
   "id": "a02a9dac",
   "metadata": {},
   "outputs": [
    {
     "data": {
      "text/plain": [
       "Dia da Semana\n",
       "DOMINGO    46\n",
       "QUARTA     30\n",
       "QUINTA     35\n",
       "SEGUNDA    44\n",
       "SEXTA      46\n",
       "SÁBADO     75\n",
       "TERÇA      37\n",
       "dtype: int64"
      ]
     },
     "execution_count": 87,
     "metadata": {},
     "output_type": "execute_result"
    }
   ],
   "source": [
    "df_franca.groupby('Dia da Semana').size()"
   ]
  },
  {
   "cell_type": "markdown",
   "id": "c65ef813",
   "metadata": {},
   "source": [
    "## Conclusões\n",
    "\n",
    "Foi feita apenas uma análise de dados superficial na base de dados do INFOSIGA, porém já podemos tirar alguns insights significativos, como por exemplo: \n",
    "* Como podemos mitigar o alto indice identificado de acidentes com motociclistas? \n",
    "* Devemos olhar com mais atenção às nossas rodovias, pois é nelas que se concentram o maior número de acidentes.\n",
    "* Colisão está a frente em relação ao tipo de acidente. Quais medidas podem ser tomadas para reduzir essas ocorrências? "
   ]
  },
  {
   "cell_type": "code",
   "execution_count": null,
   "id": "59fc0a45",
   "metadata": {},
   "outputs": [],
   "source": []
  }
 ],
 "metadata": {
  "kernelspec": {
   "display_name": "Python 3 (ipykernel)",
   "language": "python",
   "name": "python3"
  },
  "language_info": {
   "codemirror_mode": {
    "name": "ipython",
    "version": 3
   },
   "file_extension": ".py",
   "mimetype": "text/x-python",
   "name": "python",
   "nbconvert_exporter": "python",
   "pygments_lexer": "ipython3",
   "version": "3.11.5"
  }
 },
 "nbformat": 4,
 "nbformat_minor": 5
}
